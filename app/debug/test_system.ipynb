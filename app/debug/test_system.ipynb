{
 "cells": [
  {
   "cell_type": "code",
   "execution_count": null,
   "metadata": {},
   "outputs": [],
   "source": [
    "import logging\n",
    "\n",
    "# logging.basicConfig(level=logging.INFO, filename=\"py_log.log\",filemode=\"w\")\n",
    "logging.debug(\"A DEBUG Message\")\n",
    "logging.info(\"An INFO\")\n",
    "logging.warning(\"A WARNING\")\n",
    "logging.error(\"An ERROR\")\n",
    "logging.critical(\"A message of CRITICAL severity\")"
   ]
  },
  {
   "cell_type": "code",
   "execution_count": null,
   "metadata": {},
   "outputs": [],
   "source": [
    "import time\n",
    "from models.systimer import SysTimer\n",
    "\n",
    "run_timer = SysTimer() \n",
    "time.sleep(2)\n",
    "print(run_timer.get_time()) "
   ]
  },
  {
   "cell_type": "code",
   "execution_count": null,
   "metadata": {},
   "outputs": [],
   "source": [
    "from datetime import datetime\n",
    "from dateutil.parser import parse\n",
    "import pytz\n",
    "\n",
    "tz_str = 'Europe/Moscow' # +3:00\n",
    "date_time_str = '2024-08-16 12:00:00'\n",
    "\n",
    "timezone = pytz.timezone(tz_str)\n",
    "date_time_obj = None\n",
    "date_time_str = '2024-08-16'\n",
    "try:\n",
    "    date_time_obj = datetime.strptime(date_time_str, '%Y-%m-%d %H:%M:%S')\n",
    "except:\n",
    "    date_time_obj = datetime.strptime(date_time_str, '%Y-%m-%d')\n",
    "tzdt = timezone.localize(date_time_obj)\n",
    "print(tzdt)\n",
    "print(tzdt.tzinfo)\n",
    "\n",
    "date_time_obj = parse('2024-09-16 18:00:00')\n",
    "tzdt = timezone.localize(date_time_obj)\n",
    "print(str(tzdt))\n",
    "print(tzdt.tzinfo)\n",
    "\n",
    "print(datetime.strftime(tzdt, '%Y-%m-%d %H:%M:%S'))\n",
    "\n",
    "def start_of_current_hour():\n",
    "    now = datetime.now()\n",
    "    start_hour = now.replace(minute=0, second=0, microsecond=0)\n",
    "    return start_hour\n",
    "\n",
    "print(start_of_current_hour())"
   ]
  },
  {
   "cell_type": "code",
   "execution_count": null,
   "metadata": {},
   "outputs": [],
   "source": [
    "from models.sysbf import SysBf\n",
    "\n",
    "print(SysBf.tzdt_fr_str('2024-10-01 00:00:00', 'Europe/Moscow'))\n",
    "print(SysBf.tzdt_fr_str('2018-06-29', 'Europe/Moscow'))"
   ]
  },
  {
   "cell_type": "code",
   "execution_count": null,
   "metadata": {},
   "outputs": [],
   "source": [
    "from datetime import timedelta, datetime\n",
    "\n",
    "def get_week_start_end(input_datetime:datetime):\n",
    "        start_of_week = input_datetime - timedelta(days=input_datetime.weekday())\n",
    "        end_of_week = start_of_week + timedelta(days=6)\n",
    "        start_of_week = start_of_week.replace(hour=0, minute=0, second=0, microsecond=0)\n",
    "        end_of_week = end_of_week.replace(hour=23, minute=59, second=59, microsecond=999999)\n",
    "        return start_of_week, end_of_week\n",
    "\n",
    "current_datetime = datetime.now()\n",
    "start, end = get_week_start_end(current_datetime)\n",
    "print(\"Начало недели:\", start)\n",
    "print(\"Конец недели:\", end)"
   ]
  },
  {
   "cell_type": "code",
   "execution_count": null,
   "metadata": {},
   "outputs": [],
   "source": [
    "from datetime import timedelta, datetime\n",
    "from models.sysbf import SysBf\n",
    "\n",
    "datetime_add_to = SysBf.tzdt(datetime.now(), \"Europe/Moscow\")\n",
    "\n",
    "granularity = 'm1'\n",
    "        \n",
    "# Определим datetime до которого (не включая) будут записываться данные в базу\n",
    "if granularity=='h1':\n",
    "    datetime_add_to = datetime_add_to.replace(minute=0, second=0, microsecond=0)\n",
    "if granularity=='d1':\n",
    "    datetime_add_to = datetime_add_to.replace(hour=0, minute=0, second=0, microsecond=0)\n",
    "if granularity=='w1':\n",
    "    datetime_add_to = datetime_add_to - timedelta(days=datetime_add_to.weekday())\n",
    "    datetime_add_to = datetime_add_to.replace(hour=0, minute=0, second=0, microsecond=0)\n",
    "if granularity=='m1':\n",
    "    datetime_add_to = datetime_add_to.replace(day=1, hour=0, minute=0, second=0, microsecond=0)  \n",
    "\n",
    "print(datetime_add_to)    "
   ]
  },
  {
   "cell_type": "code",
   "execution_count": null,
   "metadata": {},
   "outputs": [],
   "source": [
    "from datetime import datetime, time\n",
    "\n",
    "def set_time_to_12(dt):\n",
    "    return dt.replace(hour=12, minute=0, second=0, microsecond=0)\n",
    "\n",
    "# пример использования:\n",
    "dt = datetime.now() #(2022, 10, 31, 18, 30, 15)\n",
    "updated_dt = set_time_to_12(dt)\n",
    "\n",
    "print(updated_dt)"
   ]
  },
  {
   "cell_type": "code",
   "execution_count": null,
   "metadata": {},
   "outputs": [],
   "source": [
    "import datetime\n",
    "import pytz\n",
    "\n",
    "tz_str = 'Europe/Moscow' # +3:00\n",
    "\n",
    "date_time_str = '2024-08-16 12:00:00'\n",
    "date_time_obj = datetime.datetime.strptime(date_time_str, '%Y-%m-%d %H:%M:%S')\n",
    "timezone1 = pytz.timezone(tz_str)\n",
    "timezone_date_time_obj = timezone1.localize(date_time_obj)\n",
    "print(timezone_date_time_obj)\n",
    "print(timezone_date_time_obj.tzinfo)\n",
    "\n",
    "\n",
    "timezone = pytz.timezone('America/New_York')\n",
    "timezone_date_time_obj = timezone.localize(date_time_obj)\n",
    "print(timezone_date_time_obj)\n",
    "print(timezone_date_time_obj.tzinfo)\n",
    "\n",
    "res = timezone_date_time_obj.astimezone(timezone1)\n",
    "print(type(res))\n",
    "print(res)"
   ]
  },
  {
   "cell_type": "code",
   "execution_count": null,
   "metadata": {},
   "outputs": [],
   "source": [
    "import re\n",
    "\n",
    "def calculate_formula(mlist, formula):\n",
    "    print(formula)\n",
    "    for i, element in mlist.items():\n",
    "        formula = re.sub(fr'\\b{i}\\b', str(element), formula)\n",
    "    print(formula)\n",
    "    return eval(formula)\n",
    "\n",
    "mlist = {\"m1\": 10, \"m2\":20, \"m3\": 5}\n",
    "mlist[\"m20\"] = 40\n",
    "formula = \"10*m20/(m2+m3)+10\"\n",
    "\n",
    "result = calculate_formula(mlist, formula)\n",
    "print(result)"
   ]
  },
  {
   "cell_type": "code",
   "execution_count": null,
   "metadata": {},
   "outputs": [],
   "source": [
    "import re\n",
    "\n",
    "def extract_m_values(formula):\n",
    "    m_values = set(re.findall(r'm(\\d+)', formula))\n",
    "    return m_values\n",
    "\n",
    "formula = \"10*m10/(m12+m3)+10\"\n",
    "m_values = extract_m_values(formula)\n",
    "print(m_values)"
   ]
  },
  {
   "cell_type": "code",
   "execution_count": null,
   "metadata": {},
   "outputs": [],
   "source": [
    "filter_env = {\"s1\":2, \"s2\":3}\n",
    "filter_env.update({\"s2\":4, \"s3\":5})\n",
    "print(filter_env)"
   ]
  },
  {
   "cell_type": "code",
   "execution_count": null,
   "metadata": {},
   "outputs": [],
   "source": [
    "def get_substring(text, start_text=\"\", end_text=\"\"):\n",
    "    if start_text == \"\":\n",
    "        start_index = 0\n",
    "    else:\n",
    "        start_index = text.find(start_text)\n",
    "    \n",
    "    if end_text == \"\":\n",
    "        end_index = len(text)\n",
    "    else:\n",
    "        end_index = text.find(end_text)\n",
    "\n",
    "    if start_index == -1 or end_index == -1:\n",
    "        return \"\"        \n",
    "    \n",
    "    return text[start_index + len(start_text):end_index]\n",
    "\n",
    "# Пример использования\n",
    "text = \"Это пример текста для тестирования метода\"\n",
    "substring = get_substring(text, start_text=\"пример\", end_text=\"метода\")\n",
    "print(substring)"
   ]
  }
 ],
 "metadata": {
  "kernelspec": {
   "display_name": "venv",
   "language": "python",
   "name": "python3"
  },
  "language_info": {
   "codemirror_mode": {
    "name": "ipython",
    "version": 3
   },
   "file_extension": ".py",
   "mimetype": "text/x-python",
   "name": "python",
   "nbconvert_exporter": "python",
   "pygments_lexer": "ipython3",
   "version": "3.8.10"
  }
 },
 "nbformat": 4,
 "nbformat_minor": 2
}
