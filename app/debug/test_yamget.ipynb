{
 "cells": [
  {
   "cell_type": "code",
   "execution_count": null,
   "metadata": {},
   "outputs": [],
   "source": [
    "import logging\n",
    "\n",
    "from config import config\n",
    "from models.robot_yamget import Robot_yamget\n",
    "\n",
    "logging.basicConfig(level=logging.INFO)\n",
    "\n",
    "robot = Robot_yamget(settings={\n",
    "    \"fr_api\": False, \n",
    "    \"source\": \"metrica\", \n",
    "    \"granularity\":\"h1\", \n",
    "    \"group_id\":0, \n",
    "    \"metric_id\":0\n",
    "    # \"mode\": \"dev\"\n",
    "    }, config=config)\n",
    "print(robot.run(output=True))\n",
    "       "
   ]
  },
  {
   "cell_type": "code",
   "execution_count": null,
   "metadata": {},
   "outputs": [],
   "source": [
    "from models.mysqldb import Mysqldb\n",
    "from models.metric import Metric\n",
    "from config import config\n",
    "\n",
    "db = Mysqldb(config['db'])\n",
    "\n",
    "print(Metric.get_last_dt(db=db, granularity='h1', id=11, tz_str='Europe/Moscow'))\n"
   ]
  }
 ],
 "metadata": {
  "kernelspec": {
   "display_name": "venv",
   "language": "python",
   "name": "python3"
  },
  "language_info": {
   "codemirror_mode": {
    "name": "ipython",
    "version": 3
   },
   "file_extension": ".py",
   "mimetype": "text/x-python",
   "name": "python",
   "nbconvert_exporter": "python",
   "pygments_lexer": "ipython3",
   "version": "3.8.10"
  }
 },
 "nbformat": 4,
 "nbformat_minor": 2
}
