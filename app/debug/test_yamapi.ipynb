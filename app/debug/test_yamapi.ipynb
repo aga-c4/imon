{
 "cells": [
  {
   "cell_type": "code",
   "execution_count": null,
   "metadata": {},
   "outputs": [],
   "source": [
    "# Тестовый забор данных с API Я.Метрики - результат в файле в tmp\n",
    "from models.yamapi import YaMAPI\n",
    "from config import config\n",
    "\n",
    "api = YaMAPI(token=config['sources']['metrica']['token'], counter_ids=config['sources']['metrica']['counter_ids'], type='metrica')\n",
    "response = api.get_report(method='/bytime', params={\n",
    "    'metrics': \"ym:s:visits\",\n",
    "    'accuracy': 'full',\n",
    "    'group': 'day',\n",
    "    'date1': \"2025-01-01\"\n",
    "}, fileto='tmp/ym/0_ym_out.json')\n",
    "\n",
    "print(response)"
   ]
  },
  {
   "cell_type": "code",
   "execution_count": null,
   "metadata": {},
   "outputs": [],
   "source": [
    "# Тестовый забор данных с API APP.Метрики - результат в файле в tmp\n",
    "from models.yamapi import YaMAPI\n",
    "from config import config\n",
    "\n",
    "api = YaMAPI(token=config['sources']['app_metrica']['token'], counter_ids=config['sources']['app_metrica']['counter_ids'], type='app_metrica')\n",
    "response = api.get_report(method='/bytime', params={\n",
    "    'metrics': \"ym:ge:users,ym:ge:sessions,ym:ge:devices\",\n",
    "    'accuracy': 'full',\n",
    "    'group': 'hour',\n",
    "    'date1': \"2024-09-01\",\n",
    "    'date2': \"2024-09-03\"\n",
    "}, fileto='tmp/yappm/1_ym_out.json')\n",
    "\n",
    "print(response)\n",
    "\n",
    "\"\"\"\n",
    "ym:ge:users,ym:ge:sessions,ym:ge:devices,ym:i:installDevices\n",
    "\"\"\""
   ]
  },
  {
   "cell_type": "code",
   "execution_count": null,
   "metadata": {},
   "outputs": [],
   "source": [
    "# Тестовый забор данных с API APP.Метрики - результат в файле в tmp\n",
    "from models.yamapi import YaMAPI\n",
    "from config import config\n",
    "\n",
    "api = YaMAPI(token=config['sources']['app_metrica']['token'], counter_ids=config['sources']['app_metrica']['counter_ids'], type='app_metrica')\n",
    "response = api.get_report(method='/bytime', params={\n",
    "    'metrics': \"ym:ce2:allEvents\",\n",
    "    'dimensions': \"ym:ce2:eventLabel\",\n",
    "    'filters': \"eventLabel=.('add_to_cart','begin_checkout')\",\n",
    "    'accuracy': 'full',\n",
    "    'group': 'hour',\n",
    "    'date1': \"2024-09-01\",\n",
    "    'date2': \"2024-09-03\"\n",
    "}, fileto='tmp/yappm/4_ym_out.json')\n",
    "\n",
    "print(response)"
   ]
  },
  {
   "cell_type": "code",
   "execution_count": null,
   "metadata": {},
   "outputs": [],
   "source": [
    "# Тестовый забор данных с API APP.Метрики - результат в файле в tmp\n",
    "from models.yamapi import YaMAPI\n",
    "from config import config\n",
    "\n",
    "api = YaMAPI(token=config['sources']['metrica']['token'], counter_ids=config['sources']['metrica']['counter_ids'], type='metrica')\n",
    "response = api.get_report(method='/bytime', params={\n",
    "    # 'metrics': \"ym:s:users, ym:s:visits, ym:s:hits, ym:s:newUsers,ym:s:ecommercePurchases,ym:s:productPurchasedPrice\",\n",
    "    'metrics': \"ym:s:newUsers,ym:s:hits\",\n",
    "    # 'dimensions': \"ym:s:deviceCategory\",\n",
    "    # 'dimensions': \"ym:s:lastTrafficSource\",\n",
    "    # 'dimensions': \"ym:s:lastSourceEngine\",\n",
    "    # 'filters': \"deviceCategory=.('desktop')\",\n",
    "    # 'filters': \"deviceCategory=.('desktop')\",\n",
    "    # 'filters': \"lastSourceEngine=.('organic.google')\",\n",
    "    'filters': \"lastTrafficSource=.('ad')\",\n",
    "    # 'filters': \"eventLabel=.('add_to_cart','begin_checkout')\",\n",
    "    'accuracy': 'full',\n",
    "    'group': 'hour',\n",
    "    'date1': \"2024-10-01\",\n",
    "    'date2': \"2024-10-03\"\n",
    "}, fileto='tmp/ym/6_ym_out.json')\n",
    "\n",
    "print(response)"
   ]
  },
  {
   "cell_type": "code",
   "execution_count": null,
   "metadata": {},
   "outputs": [],
   "source": [
    "# Тестовый забор данных с API APP.Метрики - результат в файле в tmp\n",
    "from models.yamapi import YaMAPI\n",
    "from config import config\n",
    "\n",
    "api = YaMAPI(token=config['sources']['metrica']['token'], counter_ids=config['sources']['metrica']['counter_ids'], type='metrica')\n",
    "response = api.get_report(method='/bytime', params={\n",
    "    \"metrics\": \"ym:s:hits\",\n",
    "    \"date1\": \"2024-08-08\",\n",
    "    \"date2\": \"2024-10-30\",\n",
    "    \"filters\": \"lastTrafficSource=.('Direct traffic')\",\n",
    "    \"group\": \"hour\",\n",
    "}, fileto='tmp/ym/5_ym_out.json')\n",
    "\n",
    "print(response)"
   ]
  },
  {
   "cell_type": "code",
   "execution_count": null,
   "metadata": {},
   "outputs": [],
   "source": [
    "# Тестовый забор данных с API APP.Метрики - результат в файле в tmp\n",
    "from models.yamapi import YaMAPI\n",
    "from config import config\n",
    "\n",
    "api = YaMAPI(token=config['sources']['app_metrica']['token'], counter_ids=config['sources']['app_metrica']['counter_ids'], type='app_metrica')\n",
    "response = api.get_report(method='/bytime', params={\n",
    "    'metrics': \"ym:ce2:allEvents\",\n",
    "    # 'dimensions': \"ym:ce2:eventLabel\",\n",
    "    'dimensions': \"ym:ce2:eventLabel\",\n",
    "    # 'filters': \"ym:s:paramsNumber\", # ==prod_list_view\",\n",
    "    'accuracy': 'full',\n",
    "    'group': 'hour',\n",
    "    'date1': \"2025-02-01\",\n",
    "    'date2': \"2025-02-02\"\n",
    "}, fileto='tmp/yappm/4_ym_out.json')\n",
    "\n",
    "print(response)"
   ]
  },
  {
   "cell_type": "code",
   "execution_count": null,
   "metadata": {},
   "outputs": [],
   "source": [
    "# Тестовый забор данных с API APP.Метрики - результат в файле в tmp\n",
    "from models.yamapi import YaMAPI\n",
    "from config import config\n",
    "\n",
    "api = YaMAPI(token=config['sources']['metrica']['token'], counter_ids=config['sources']['metrica']['counter_ids'], type='metrica')\n",
    "response = api.get_report(method='/bytime', params={\n",
    "    # 'filters': \"eventLabel=.('add_to_cart','begin_checkout')\",\n",
    "    # 'metrics': \"ym:s:goal235599113reaches,ym:s:paramsNumber\",\n",
    "    \n",
    "    # 'dimensions': [\"ym:ep:eventParamsLevel1\",\"ym:ep:eventParamsLevel2\"],\n",
    "    'dimensions': [\"ym:ep:eventParamsLevel2\"],\n",
    "    'metrics': \"ym:ep:eventsNumber\",\n",
    "    # 'filters': \"ym:ep:goalReached!n\",\n",
    "    # 'filters': \"ym:ep:actionGoal235599113IsReached=='Yes' and ym:ep:goalReached!n\",\n",
    "    'filters': \"ym:ep:actionGoal235599113IsReached=='Yes' and ym:ep:eventParamsLevel1=='sess_activity'\",\n",
    "    \n",
    "    \n",
    "    'accuracy': 'full',\n",
    "    'group': 'day',\n",
    "    'date1': \"2025-02-01\",\n",
    "    'date2': \"2025-02-01\"\n",
    "}, fileto='tmp/ym/6_ym_out.json')\n",
    "\n",
    "print(response)"
   ]
  }
 ],
 "metadata": {
  "kernelspec": {
   "display_name": "venv",
   "language": "python",
   "name": "python3"
  },
  "language_info": {
   "codemirror_mode": {
    "name": "ipython",
    "version": 3
   },
   "file_extension": ".py",
   "mimetype": "text/x-python",
   "name": "python",
   "nbconvert_exporter": "python",
   "pygments_lexer": "ipython3",
   "version": "3.8.10"
  }
 },
 "nbformat": 4,
 "nbformat_minor": 2
}
