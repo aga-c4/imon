{
 "cells": [
  {
   "cell_type": "code",
   "execution_count": 1,
   "metadata": {},
   "outputs": [],
   "source": [
    "# Инициализация - всегда запускаем перед началом работы\n",
    "from models.mysqldb import Mysqldb\n",
    "from models.metric import Metric\n",
    "from models.task import Task\n",
    "from config import config\n",
    "\n",
    "db = Mysqldb(config['db'])"
   ]
  },
  {
   "cell_type": "code",
   "execution_count": null,
   "metadata": {},
   "outputs": [],
   "source": [
    "res = Metric.get_sum(db=db, \n",
    "                granularity='h1', \n",
    "                dt_from=\"2024-09-30 00:00:00+00:00\", \n",
    "                dt_to=\"2024-10-02 23:00:00+03:00\", \n",
    "                metric_ids=[2, 7, 41, 21, 23]) \n",
    "\n",
    "print(res)\n"
   ]
  },
  {
   "cell_type": "code",
   "execution_count": null,
   "metadata": {},
   "outputs": [],
   "source": [
    "import plotly.graph_objects as go\n",
    "\n",
    "# Create a scatter plot\n",
    "fig = go.Figure()\n",
    "\n",
    "# Add scatter traces\n",
    "fig.add_trace(go.Scatter(x=[1, 2, 3, 4, 5], y=[10, 11, 12, 13, 14], mode='lines+markers', name=\"test1\"))\n",
    "fig.add_trace(go.Scatter(x=[1, 2, 3, 4, 5], y=[20, 15, 22, 23, 24], mode='lines+markers', name=\"test2\"))\n",
    "\n",
    "fig.update_layout(\n",
    "                xaxis=dict(showgrid=True, gridwidth=1, gridcolor='lightgray'),\n",
    "                yaxis=dict(showgrid=True, gridwidth=1, gridcolor='lightgray'),\n",
    "                # paper_bgcolor=\"lightgray\"\n",
    "                plot_bgcolor=\"#e4ebf5\"\n",
    "                )\n",
    "\n",
    "\n",
    "# Update layout\n",
    "fig.update_layout(title='Scatter Plot with Plotly Graph Objects')\n",
    "\n",
    "\n",
    "fig.show()"
   ]
  },
  {
   "cell_type": "code",
   "execution_count": null,
   "metadata": {},
   "outputs": [],
   "source": [
    "{'2': 1829.0, '41': 164.0, '7': 1835.0, '21': 42.0, '23': 16.0}"
   ]
  },
  {
   "cell_type": "code",
   "execution_count": null,
   "metadata": {},
   "outputs": [],
   "source": [
    "sql = f\"SELECT DATE_FORMAT(dt, '%Y-%m-%d') as dtf, count(*), sum(value) as value from metrics_h1 GROUP BY dtf ORDER BY dtf DESC limit 0,20;\"\n",
    "\n",
    "result = db.query(sql) \n",
    "if result:\n",
    "    for row in result:\n",
    "        print(row)"
   ]
  },
  {
   "cell_type": "code",
   "execution_count": null,
   "metadata": {},
   "outputs": [],
   "source": [
    "# Инициализация - всегда запускаем перед началом работы\n",
    "from models.mysqldb import Mysqldb\n",
    "from config import config\n",
    "\n",
    "db = Mysqldb(config['db'])\n",
    "\n",
    "sql = f\"SELECT DATE_FORMAT(dt, '%Y-%m-%d') as dtf, count(*), sum(value) as value from metrics_h1 GROUP BY dtf ORDER BY dtf DESC limit 0,20;\"\n",
    "\n",
    "result = db.query(sql) \n",
    "if result:\n",
    "    for row in result:\n",
    "        print(row)"
   ]
  },
  {
   "cell_type": "code",
   "execution_count": null,
   "metadata": {},
   "outputs": [],
   "source": [
    "# Служебные операции - будьте осторожны!\n",
    "# from models.task import Task\n",
    "# Metric.truncate_anoms(db=db)\n",
    "# print('Create tasks: ', Task.create_tasks_for_metrics(db=db))\n",
    "# Task.truncate_tasks(db=db)\n",
    "# Metric.truncate_anoms(db=db)"
   ]
  },
  {
   "cell_type": "code",
   "execution_count": null,
   "metadata": {},
   "outputs": [],
   "source": [
    "res = Metric.insert_list(db=db, granularity='h1', params=[\n",
    "    {\n",
    "        \"dt\": \"2024-09-30 12:00:00\",\n",
    "        \"source_id\": 0, \n",
    "        \"source_alias\": \"test\", \n",
    "        \"metric_id\": 0, \n",
    "        \"metric_alias\": \"test\", \n",
    "        \"metric_group_id\": 1,\n",
    "        \"value\": 100, \n",
    "        \"dp\": 0, \n",
    "        \"region_alias\": \"all\", \n",
    "        \"device_alias\": \"all\"\n",
    "    },\n",
    "    {\n",
    "        \"dt\": \"2024-10-01 12:00:00+0300\",\n",
    "        \"source_id\": 0, \n",
    "        \"source_alias\": \"test\", \n",
    "        \"metric_id\": 0, \n",
    "        \"metric_alias\": \"test\", \n",
    "        \"metric_group_id\": 1,\n",
    "        \"value\": 100, \n",
    "        \"dp\": 0, \n",
    "        \"region_alias\": \"all\", \n",
    "        \"device_alias\": \"all\"\n",
    "    },\n",
    "    {\n",
    "        \"dt\": \"2024-10-02 12:00:00+0000\",\n",
    "        \"source_id\": 0, \n",
    "        \"source_alias\": \"test\", \n",
    "        \"metric_id\": 0, \n",
    "        \"metric_alias\": \"test\", \n",
    "        \"metric_group_id\": 1,\n",
    "        \"value\": 100, \n",
    "        \"dp\": 0, \n",
    "        \"region_alias\": \"all\", \n",
    "        \"device_alias\": \"all\"\n",
    "    }\n",
    "])\n",
    "\n",
    "print(res)"
   ]
  },
  {
   "cell_type": "code",
   "execution_count": null,
   "metadata": {},
   "outputs": [],
   "source": [
    "res = Metric.get_values(db=db, \n",
    "                granularity='h1', \n",
    "                dt_from=\"2024-09-30 00:00:00+00:00\", \n",
    "                dt_to=\"2024-10-02 23:00:00+03:00\", \n",
    "                metric_id=0) \n",
    "\n",
    "print(res)\n",
    "\n",
    "for dt, value in res.items():\n",
    "    print(dt.strftime(\"%Y-%m-%d %H:%M:%S\"), value)"
   ]
  },
  {
   "cell_type": "code",
   "execution_count": null,
   "metadata": {},
   "outputs": [],
   "source": [
    "# Получение и вывод списка групп\n",
    "result = Metric.get_groups(db=db)\n",
    "for row in result:\n",
    "    print(row)\n",
    "\n",
    "print(result)  "
   ]
  },
  {
   "cell_type": "code",
   "execution_count": null,
   "metadata": {},
   "outputs": [],
   "source": [
    "# Получение списка метрик с фильтрацией\n",
    "\n",
    "result = Metric.get_list(db=db, group_id=0)\n",
    "for row in result:\n",
    "    print(row)\n",
    "\n",
    "''' \n",
    "task_granularity  = 'h1' # Отслеживаемые диапазоны h1/d1/w1/m1\n",
    "task_accum_items = '24' # Количество значений в аккумуляторе (1 - не используем, 7 - для дней по неделям, 24 - для суток по часам)\n",
    "task_direction = 'both' # direction options: pos | neg | both\n",
    "task_last_items = 0 # Если больше нуля, то берется это количество элементов с конца после даты начала \n",
    "task_max_anoms = 0.02\n",
    "task_anoms_alpha = 0.01\n",
    "task_anoms_period_weeks = 2\n",
    "'''    "
   ]
  }
 ],
 "metadata": {
  "kernelspec": {
   "display_name": "venv",
   "language": "python",
   "name": "python3"
  },
  "language_info": {
   "codemirror_mode": {
    "name": "ipython",
    "version": 3
   },
   "file_extension": ".py",
   "mimetype": "text/x-python",
   "name": "python",
   "nbconvert_exporter": "python",
   "pygments_lexer": "ipython3",
   "version": "3.8.10"
  }
 },
 "nbformat": 4,
 "nbformat_minor": 2
}
